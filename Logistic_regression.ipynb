{
  "nbformat": 4,
  "nbformat_minor": 0,
  "metadata": {
    "colab": {
      "provenance": []
    },
    "kernelspec": {
      "name": "python3",
      "display_name": "Python 3"
    },
    "language_info": {
      "name": "python"
    }
  },
  "cells": [
    {
      "cell_type": "code",
      "source": [
        "import numpy as np\n",
        "import matplotlib.pyplot as plt\n",
        "np.random.seed(42)"
      ],
      "metadata": {
        "id": "PcDvwSeAp-uL"
      },
      "execution_count": 1,
      "outputs": []
    },
    {
      "cell_type": "code",
      "execution_count": 17,
      "metadata": {
        "id": "ADJKaK92p0Dl"
      },
      "outputs": [],
      "source": [
        "class LogisticRegression:\n",
        "\n",
        "    def __init__(self, learning_rate = 0.001, epochs = 40):\n",
        "        self.learning_rate = learning_rate\n",
        "        self.epochs = epochs\n",
        "        self.weights = None\n",
        "        self.bias = None\n",
        "\n",
        "    def fit(self, X, y, X_val = None, y_val = None):\n",
        "\n",
        "        n_samples, n_feature = X.shape\n",
        "        self.weights = np.random.randn(n_feature)\n",
        "        self.bias = 0\n",
        "        loss_history = []\n",
        "        val_loss_history = [0]\n",
        "        early_stopping = 0\n",
        "\n",
        "\n",
        "        for _ in range(self.epochs):\n",
        "            linear_model = np.dot(X, self.weights) + self.bias\n",
        "            y_predicted = self._sigmoid(linear_model)\n",
        "    \n",
        "\n",
        "            dw = (1 / n_samples) * np.dot(X.T, (y_predicted - y))\n",
        "            db = (1 / n_samples) * np.sum(y_predicted - y)\n",
        "\n",
        "            self.weights -= self.learning_rate * dw\n",
        "            self.bias -= self.learning_rate * db\n",
        "            cost = self._cost(y_predicted, y, n_samples)\n",
        "            loss_history.append(cost)\n",
        "\n",
        "            val_cost = self._cost(self._predict(X_val),y_val,X_val.shape[0])\n",
        "            val_loss_history.append(val_cost)\n",
        "\n",
        "            print(\"Epoch \" + str(_) + \" : Accuracy = \" + str(self.accuracy(y, y_predicted)) + \", Loss = \" + str(cost) + \"Val_loss = \" + str(val_cost) )\n",
        "\n",
        "\n",
        "            if np.abs(val_loss_history[-1] - val_loss_history[-2]) <= np.abs(val_loss_history[-1] * 0.20):\n",
        "              early_stopping += 1\n",
        "            else:\n",
        "              early_stopping = 0\n",
        "\n",
        "            if early_stopping == 3:\n",
        "              break\n",
        "\n",
        "\n",
        "        return loss_history, val_loss_history\n",
        "\n",
        "    def predict(self, X):\n",
        "        linear_model = np.dot(X, self.weights) + self.bias\n",
        "        y_predicted = self._sigmoid(linear_model)\n",
        "        y_predicted_classified = [1 if i > 0.5 else 0 for i in y_predicted]\n",
        "        return y_predicted_classified\n",
        "\n",
        "    def _predict(self, X):\n",
        "      linear_model = np.dot(X, self.weights) + self.bias\n",
        "      y_predicted = self._sigmoid(linear_model)\n",
        "      return y_predicted\n",
        "\n",
        "    def accuracy(self, y_true, y_pred):\n",
        "        accuracy = np.sum(y_true == y_pred) / len(y_true)\n",
        "        return accuracy\n",
        "\n",
        "    def _cost(self, y_pred, y, n_samples):\n",
        "      epsilon = 1e-5\n",
        "      error = (y * np.log(y_pred + epsilon)) + ((1 - y) * np.log(1 - y_pred + epsilon))\n",
        "      cost = (-1 / n_samples) * sum(error)\n",
        "      return cost\n",
        "\n",
        "\n",
        "    def _sigmoid(self, X):\n",
        "        return 1 / (1 + np.exp(-X))\n"
      ]
    },
    {
      "cell_type": "code",
      "source": [
        "data = np.load(\"/content/drive/MyDrive/Colab Notebooks/data.npy\")\n",
        "\n",
        "np.random.shuffle(data)\n",
        "\n",
        "slicer = int(data.shape[0]*0.9)\n",
        "X_train = data[:slicer,:-1]\n",
        "X_test = data[slicer:data.shape[0],:-1]\n",
        "y_train = data[:slicer,-1]\n",
        "y_test = data[slicer:data.shape[0],-1]"
      ],
      "metadata": {
        "id": "FLFzAUu5p8nI"
      },
      "execution_count": 18,
      "outputs": []
    },
    {
      "cell_type": "code",
      "source": [
        "model = LogisticRegression(learning_rate= 0.001, epochs= 300)\n",
        "history, val_history = model.fit(X_train, y_train , X_test, y_test)"
      ],
      "metadata": {
        "colab": {
          "base_uri": "https://localhost:8080/"
        },
        "id": "XQ0nLA9hq4PP",
        "outputId": "ac2a5b61-13b3-4ada-c6fd-7d70a13be44c"
      },
      "execution_count": 19,
      "outputs": [
        {
          "output_type": "stream",
          "name": "stderr",
          "text": [
            "/usr/local/lib/python3.7/dist-packages/ipykernel_launcher.py:72: RuntimeWarning: overflow encountered in exp\n"
          ]
        },
        {
          "output_type": "stream",
          "name": "stdout",
          "text": [
            "Epoch 0 : Accuracy = 0.5367647058823529, Loss = 4.9063986978705705Val_loss = 4.56171914608646\n",
            "Epoch 1 : Accuracy = 0.5252100840336135, Loss = 4.9341824004963835Val_loss = 5.647275376749597\n",
            "Epoch 2 : Accuracy = 0.5535714285714286, Loss = 4.80107758363536Val_loss = 4.77894434397915\n",
            "Epoch 3 : Accuracy = 0.4989495798319328, Loss = 5.744364312904069Val_loss = 6.7339711210410735\n",
            "Epoch 4 : Accuracy = 0.5, Loss = 5.756457732510071Val_loss = 4.6080329278570025\n",
            "Epoch 5 : Accuracy = 0.4989495798319328, Loss = 5.683897214874029Val_loss = 6.7339711210410735\n",
            "Epoch 6 : Accuracy = 0.5, Loss = 5.756457732510071Val_loss = 4.127268751621894\n",
            "Epoch 7 : Accuracy = 0.5546218487394958, Loss = 4.916713794637452Val_loss = 6.516745923589751\n",
            "Epoch 8 : Accuracy = 0.5189075630252101, Loss = 5.4541222423600395Val_loss = 4.453106547802163\n",
            "Epoch 9 : Accuracy = 0.5063025210084033, Loss = 5.598916508105434Val_loss = 6.7339711210410735\n",
            "Epoch 10 : Accuracy = 0.5063025210084033, Loss = 5.611336749168102Val_loss = 3.801430955448189\n",
            "Epoch 11 : Accuracy = 0.5777310924369747, Loss = 4.655956266015665Val_loss = 5.865070331235775\n",
            "Epoch 12 : Accuracy = 0.5430672268907563, Loss = 5.127599912953139Val_loss = 4.23588135035704\n",
            "Epoch 13 : Accuracy = 0.5199579831932774, Loss = 5.457348026720999Val_loss = 6.516745923589751\n",
            "Epoch 14 : Accuracy = 0.5252100840336135, Loss = 5.381562326651534Val_loss = 3.693318236245329\n",
            "Epoch 15 : Accuracy = 0.6186974789915967, Loss = 4.220592382265154Val_loss = 5.430619936333126\n",
            "Epoch 16 : Accuracy = 0.5913865546218487, Loss = 4.462423009955311Val_loss = 4.344493949076501\n",
            "Epoch 17 : Accuracy = 0.5409663865546218, Loss = 5.139693325732358Val_loss = 5.865070331235862\n",
            "Epoch 18 : Accuracy = 0.5388655462184874, Loss = 5.212253850239677Val_loss = 3.692818356722526\n",
            "Epoch 19 : Accuracy = 0.6313025210084033, Loss = 4.0165345872770954Val_loss = 5.213394738881801\n",
            "Epoch 20 : Accuracy = 0.6134453781512605, Loss = 4.160126344516907Val_loss = 3.866963545235575\n",
            "Epoch 21 : Accuracy = 0.592436974789916, Loss = 4.607493766744962Val_loss = 5.756457732510114\n",
            "Epoch 22 : Accuracy = 0.5651260504201681, Loss = 4.837357842453408Val_loss = 3.5842057579968634\n",
            "Epoch 23 : Accuracy = 0.6207983193277311, Loss = 4.1476445958447155Val_loss = 5.322007337607464\n",
            "Epoch 24 : Accuracy = 0.6029411764705882, Loss = 4.365443596622072Val_loss = 3.4755931592712037\n",
            "Epoch 25 : Accuracy = 0.6365546218487395, Loss = 3.9592674748914694Val_loss = 5.104782098766487\n",
            "Epoch 26 : Accuracy = 0.615546218487395, Loss = 4.139157295752336Val_loss = 3.1497553630942132\n",
            "Epoch 27 : Accuracy = 0.648109243697479, Loss = 3.845697283857243Val_loss = 4.996169541430477\n",
            "Epoch 28 : Accuracy = 0.6271008403361344, Loss = 4.058764284256913Val_loss = 3.2362140060332982\n",
            "Epoch 29 : Accuracy = 0.6544117647058824, Loss = 3.7990170187822403Val_loss = 4.996169541430477\n",
            "Epoch 30 : Accuracy = 0.6302521008403361, Loss = 3.990818470032791Val_loss = 3.0411427643813345\n",
            "Epoch 31 : Accuracy = 0.6659663865546218, Loss = 3.6293566153033296Val_loss = 4.77894434397915\n",
            "Epoch 32 : Accuracy = 0.6491596638655462, Loss = 3.845697434745419Val_loss = 3.1497553630942123\n",
            "Epoch 33 : Accuracy = 0.6680672268907563, Loss = 3.6353205011660235Val_loss = 4.631890268998943\n",
            "Epoch 34 : Accuracy = 0.6502100840336135, Loss = 3.8215105955486797Val_loss = 2.996395024648026\n",
            "Epoch 35 : Accuracy = 0.6796218487394958, Loss = 3.5070816857999714Val_loss = 4.5617191465278255\n",
            "Epoch 36 : Accuracy = 0.6607142857142857, Loss = 3.6043664969618807Val_loss = 2.823917566917225\n",
            "Epoch 37 : Accuracy = 0.7058823529411765, Loss = 3.2267420501822643Val_loss = 4.3444939490765\n",
            "Epoch 38 : Accuracy = 0.6869747899159664, Loss = 3.3135241521114986Val_loss = 2.823917566917225\n",
            "Epoch 39 : Accuracy = 0.7090336134453782, Loss = 3.1814618876900607Val_loss = 4.018656152899513\n",
            "Epoch 40 : Accuracy = 0.7006302521008403, Loss = 3.250497465854344Val_loss = 2.823917566917225\n",
            "Epoch 41 : Accuracy = 0.7153361344537815, Loss = 3.1321385641428803Val_loss = 4.018656152899513\n",
            "Epoch 42 : Accuracy = 0.7027310924369747, Loss = 3.2167104558199697Val_loss = 2.715304969090465\n",
            "Epoch 43 : Accuracy = 0.726890756302521, Loss = 2.9870658740969014Val_loss = 3.8014309554481875\n",
            "Epoch 44 : Accuracy = 0.7111344537815126, Loss = 2.9870646509144523Val_loss = 2.6066923694659\n",
            "Epoch 45 : Accuracy = 0.7436974789915967, Loss = 2.748500723235105Val_loss = 3.4755853287807787\n",
            "Epoch 46 : Accuracy = 0.7300420168067226, Loss = 2.800566661983507Val_loss = 2.6066923694659\n",
            "Epoch 47 : Accuracy = 0.7447478991596639, Loss = 2.769094592159094Val_loss = 3.4755931662591033\n",
            "Epoch 48 : Accuracy = 0.7331932773109243, Loss = 2.793569929037982Val_loss = 2.498084236320338\n",
            "Epoch 49 : Accuracy = 0.75, Loss = 2.684729238211066Val_loss = 3.2583679618198738\n",
            "Epoch 50 : Accuracy = 0.7384453781512605, Loss = 2.7572896390797976Val_loss = 2.498079770740237\n",
            "Epoch 51 : Accuracy = 0.7510504201680672, Loss = 2.721013597019321Val_loss = 3.366980696812017\n",
            "Epoch 52 : Accuracy = 0.7363445378151261, Loss = 2.776660119592805Val_loss = 2.38946717201484\n",
            "Epoch 53 : Accuracy = 0.7552521008403361, Loss = 2.6723528946121196Val_loss = 3.2582677974601375\n",
            "Epoch 54 : Accuracy = 0.7457983193277311, Loss = 2.6566610214012476Val_loss = 2.2808545732889116\n",
            "Epoch 55 : Accuracy = 0.7752100840336135, Loss = 2.4219241729941094Val_loss = 3.041142764368549\n",
            "Epoch 56 : Accuracy = 0.7710084033613446, Loss = 2.3823936624337154Val_loss = 2.0636293758375857\n",
            "Epoch 57 : Accuracy = 0.7846638655462185, Loss = 2.346113384109077Val_loss = 3.041142764368549\n",
            "Epoch 58 : Accuracy = 0.7762605042016807, Loss = 2.3360991918052987Val_loss = 2.063629375837586\n",
            "Epoch 59 : Accuracy = 0.7804621848739496, Loss = 2.375474335918614Val_loss = 3.041142764368549\n",
            "Epoch 60 : Accuracy = 0.7689075630252101, Loss = 2.4184133772648977Val_loss = 2.0636293758379116\n",
            "Epoch 61 : Accuracy = 0.7783613445378151, Loss = 2.392719257534932Val_loss = 3.041142764368549\n",
            "Epoch 62 : Accuracy = 0.7689075630252101, Loss = 2.422509607270539Val_loss = 2.06362943187647\n",
            "Epoch 63 : Accuracy = 0.7752100840336135, Loss = 2.425090923214197Val_loss = 3.149755363094211\n",
            "Epoch 64 : Accuracy = 0.7615546218487395, Loss = 2.442860765132601Val_loss = 2.1722413364999484\n",
            "Epoch 65 : Accuracy = 0.7909663865546218, Loss = 2.253539596665624Val_loss = 3.041142764368549\n",
            "Epoch 66 : Accuracy = 0.7752100840336135, Loss = 2.28564628907881Val_loss = 2.0636295565810143\n",
            "Epoch 67 : Accuracy = 0.792016806722689, Loss = 2.258858290797612Val_loss = 3.041142764368549\n",
            "Epoch 68 : Accuracy = 0.7783613445378151, Loss = 2.273552871573523Val_loss = 2.0636293758375857\n",
            "Epoch 69 : Accuracy = 0.7941176470588235, Loss = 2.218684312482837Val_loss = 2.8239175725917187\n",
            "Epoch 70 : Accuracy = 0.7836134453781513, Loss = 2.1887642502312574Val_loss = 1.9550167771119873\n",
            "Epoch 71 : Accuracy = 0.8014705882352942, Loss = 2.164712109526708Val_loss = 2.715305001402145\n",
            "Epoch 72 : Accuracy = 0.7878151260504201, Loss = 2.1039397723550244Val_loss = 2.0636293518396225\n",
            "Epoch 73 : Accuracy = 0.8035714285714286, Loss = 2.1334737191142676Val_loss = 2.7153049681915613\n",
            "Epoch 74 : Accuracy = 0.7909663865546218, Loss = 2.043777831727928Val_loss = 1.6367298009786435\n",
            "Epoch 75 : Accuracy = 0.8067226890756303, Loss = 2.072121356756205Val_loss = 2.7153049681915613\n",
            "Epoch 76 : Accuracy = 0.7993697478991597, Loss = 1.9545027919696598Val_loss = 1.6291789809349368\n",
            "Epoch 77 : Accuracy = 0.8119747899159664, Loss = 2.020115620997493Val_loss = 2.7153049681915613\n",
            "Epoch 78 : Accuracy = 0.8004201680672269, Loss = 1.9191769198612254Val_loss = 1.6291789809349368\n",
            "Epoch 79 : Accuracy = 0.8130252100840336, Loss = 1.9931910871515903Val_loss = 2.7153049681915613\n",
            "Epoch 80 : Accuracy = 0.8004201680672269, Loss = 1.8865674388360156Val_loss = 1.6291789809349368\n",
            "Epoch 81 : Accuracy = 0.8182773109243697, Loss = 1.9546063923757349Val_loss = 2.6066923694658986\n",
            "Epoch 82 : Accuracy = 0.8067226890756303, Loss = 1.862376619375358Val_loss = 1.6291789809349368\n",
            "Epoch 83 : Accuracy = 0.8182773109243697, Loss = 1.92284376948933Val_loss = 2.6066923694658986\n",
            "Epoch 84 : Accuracy = 0.8098739495798319, Loss = 1.8504315901135209Val_loss = 1.6291789809349368\n",
            "Epoch 85 : Accuracy = 0.8151260504201681, Loss = 1.931220665070855Val_loss = 2.715302023020382\n",
            "Epoch 86 : Accuracy = 0.7993697478991597, Loss = 1.9470305198370972Val_loss = 1.6291789809349368\n",
            "Epoch 87 : Accuracy = 0.8088235294117647, Loss = 2.020313440933245Val_loss = 2.7153049681915613\n",
            "Epoch 88 : Accuracy = 0.7930672268907563, Loss = 2.0679641229607877Val_loss = 1.7371671729404023\n",
            "Epoch 89 : Accuracy = 0.8077731092436975, Loss = 2.0074977336332966Val_loss = 2.7153049681915613\n",
            "Epoch 90 : Accuracy = 0.792016806722689, Loss = 2.055874714793595Val_loss = 1.6291789809349368\n",
            "Epoch 91 : Accuracy = 0.8098739495798319, Loss = 1.9832986483482973Val_loss = 2.7153049681915613\n",
            "Epoch 92 : Accuracy = 0.7930672268907563, Loss = 2.0558713316951067Val_loss = 1.6291789809349368\n",
            "Epoch 93 : Accuracy = 0.8098739495798319, Loss = 1.9712173874536862Val_loss = 2.7153049681915613\n",
            "Epoch 94 : Accuracy = 0.7941176470588235, Loss = 2.037777026480825Val_loss = 1.737680395058101\n",
            "Epoch 95 : Accuracy = 0.8067226890756303, Loss = 1.985842283634781Val_loss = 2.7153049681915613\n",
            "Epoch 96 : Accuracy = 0.7941176470588235, Loss = 2.04377791346549Val_loss = 1.6291789809349368\n",
            "Epoch 97 : Accuracy = 0.8130252100840336, Loss = 1.9481167093967022Val_loss = 2.699746105578917\n",
            "Epoch 98 : Accuracy = 0.8014705882352942, Loss = 1.9470987251887442Val_loss = 1.6291789809349368\n",
            "Epoch 99 : Accuracy = 0.8182773109243697, Loss = 1.8865685925222502Val_loss = 2.6066923694658986\n",
            "Epoch 100 : Accuracy = 0.8014705882352942, Loss = 1.8695569698790484Val_loss = 1.6291789788100395\n",
            "Epoch 101 : Accuracy = 0.8224789915966386, Loss = 1.7939049618687903Val_loss = 2.6066923694658986\n",
            "Epoch 102 : Accuracy = 0.805672268907563, Loss = 1.814873114168286Val_loss = 1.520566382209274\n",
            "Epoch 103 : Accuracy = 0.8256302521008403, Loss = 1.7407346355434048Val_loss = 2.4988921470398835\n",
            "Epoch 104 : Accuracy = 0.8151260504201681, Loss = 1.7727179875900574Val_loss = 1.520566382209274\n",
            "Epoch 105 : Accuracy = 0.8245798319327731, Loss = 1.7622920714194703Val_loss = 2.6066923694658986\n",
            "Epoch 106 : Accuracy = 0.8119747899159664, Loss = 1.8018980828573437Val_loss = 1.520566382209274\n",
            "Epoch 107 : Accuracy = 0.8214285714285714, Loss = 1.7951669698461112Val_loss = 2.6066923694658986\n",
            "Epoch 108 : Accuracy = 0.8077731092436975, Loss = 1.8260527625242833Val_loss = 1.411953783515627\n",
            "Epoch 109 : Accuracy = 0.8214285714285714, Loss = 1.8019937145384428Val_loss = 2.6066923694658986\n",
            "Epoch 110 : Accuracy = 0.8067226890756303, Loss = 1.8363027057031533Val_loss = 1.411953783483612\n",
            "Epoch 111 : Accuracy = 0.8245798319327731, Loss = 1.8019095224690709Val_loss = 2.6066923694658986\n",
            "Epoch 112 : Accuracy = 0.805672268907563, Loss = 1.8385901334883024Val_loss = 1.411953783483612\n",
            "Epoch 113 : Accuracy = 0.8256302521008403, Loss = 1.790643143432817Val_loss = 2.6066923694658986\n",
            "Epoch 114 : Accuracy = 0.8067226890756303, Loss = 1.7898216387340065Val_loss = 1.3033411847579495\n",
            "Epoch 115 : Accuracy = 0.8287815126050421, Loss = 1.6904354454531383Val_loss = 2.389467172014575\n",
            "Epoch 116 : Accuracy = 0.8203781512605042, Loss = 1.6895190156932582Val_loss = 1.3033411847579506\n",
            "Epoch 117 : Accuracy = 0.832983193277311, Loss = 1.5963213554137141Val_loss = 2.280854573288912\n",
            "Epoch 118 : Accuracy = 0.8361344537815126, Loss = 1.5406953726343322Val_loss = 1.6291741110081506\n",
            "Epoch 119 : Accuracy = 0.842436974789916, Loss = 1.5101778110545032Val_loss = 2.1722419745632493\n",
            "Epoch 120 : Accuracy = 0.8529411764705882, Loss = 1.3717863418740845Val_loss = 1.5205663822092745\n",
            "Epoch 121 : Accuracy = 0.8476890756302521, Loss = 1.4944718296436679Val_loss = 2.172173750694329\n",
            "Epoch 122 : Accuracy = 0.8581932773109243, Loss = 1.3181727139208896Val_loss = 1.5205663822092745\n",
            "Epoch 123 : Accuracy = 0.8487394957983193, Loss = 1.4632937722915025Val_loss = 2.1213863930359853\n",
            "Epoch 124 : Accuracy = 0.8581932773109243, Loss = 1.330241003943825Val_loss = 1.4119537837046674\n",
            "Epoch 125 : Accuracy = 0.8487394957983193, Loss = 1.485652761809738Val_loss = 2.1722419745632493\n",
            "Epoch 126 : Accuracy = 0.8529411764705882, Loss = 1.3786398351444737Val_loss = 1.4119537834836122\n",
            "Epoch 127 : Accuracy = 0.8487394957983193, Loss = 1.4632937723770665Val_loss = 2.1722419745632493\n",
            "Epoch 128 : Accuracy = 0.8508403361344538, Loss = 1.3890428392317986Val_loss = 1.4119537834836122\n",
            "Epoch 129 : Accuracy = 0.8497899159663865, Loss = 1.4632937723771307Val_loss = 2.1722419745632493\n",
            "Epoch 130 : Accuracy = 0.8529411764705882, Loss = 1.3801102195379045Val_loss = 1.4119537834836122\n",
            "Epoch 131 : Accuracy = 0.8508403361344538, Loss = 1.451200873430601Val_loss = 2.1722419745632493\n",
            "Epoch 132 : Accuracy = 0.8539915966386554, Loss = 1.3907362979047058Val_loss = 1.4119537834836122\n",
            "Epoch 133 : Accuracy = 0.8508403361344538, Loss = 1.4512003025067752Val_loss = 2.1722419745632493\n",
            "Epoch 134 : Accuracy = 0.8539915966386554, Loss = 1.4027894697341525Val_loss = 1.4119537834836122\n",
            "Epoch 135 : Accuracy = 0.8487394957983193, Loss = 1.4391048225854424Val_loss = 2.1722419745632493\n",
            "Epoch 136 : Accuracy = 0.8529411764705882, Loss = 1.4011602998449724Val_loss = 1.4119537834836122\n",
            "Epoch 137 : Accuracy = 0.851890756302521, Loss = 1.4086326688135038Val_loss = 2.1722419745632493\n",
            "Epoch 138 : Accuracy = 0.8487394957983193, Loss = 1.4389492450340113Val_loss = 1.4119537834836122\n",
            "Epoch 139 : Accuracy = 0.8508403361344538, Loss = 1.4304149858723885Val_loss = 2.1722419745632493\n",
            "Epoch 140 : Accuracy = 0.8434873949579832, Loss = 1.5116674515442823Val_loss = 1.3033411847579495\n",
            "Epoch 141 : Accuracy = 0.8466386554621849, Loss = 1.451318631794753Val_loss = 2.1722419765117937\n",
            "Epoch 142 : Accuracy = 0.8382352941176471, Loss = 1.5339299767891315Val_loss = 1.303341184757952\n",
            "Epoch 143 : Accuracy = 0.8487394957983193, Loss = 1.5358498160586915Val_loss = 2.280854573288912\n",
            "Epoch 144 : Accuracy = 0.8298319327731093, Loss = 1.6084074755973674Val_loss = 1.4598678332359047\n",
            "Epoch 145 : Accuracy = 0.8392857142857143, Loss = 1.644892847215748Val_loss = 2.4979100528168017\n",
            "Epoch 146 : Accuracy = 0.8109243697478992, Loss = 1.8236195776893303Val_loss = 1.6291789809922608\n",
            "Epoch 147 : Accuracy = 0.8287815126050421, Loss = 1.8380040369057002Val_loss = 2.823917566917224\n",
            "Epoch 148 : Accuracy = 0.7899159663865546, Loss = 2.0890605150836508Val_loss = 1.8464041783862621\n",
            "Epoch 149 : Accuracy = 0.8151260504201681, Loss = 2.0437804976641614Val_loss = 3.041142764368549\n",
            "Epoch 150 : Accuracy = 0.7689075630252101, Loss = 2.3340199840096774Val_loss = 1.8464041783862621\n",
            "Epoch 151 : Accuracy = 0.8025210084033614, Loss = 2.1163376355634673Val_loss = 3.1509191392811893\n",
            "Epoch 152 : Accuracy = 0.7668067226890757, Loss = 2.3691317972773205Val_loss = 1.8464041783862621\n",
            "Epoch 153 : Accuracy = 0.8119747899159664, Loss = 2.0679640502194374Val_loss = 3.041142764368549\n",
            "Epoch 154 : Accuracy = 0.773109243697479, Loss = 2.312538374656899Val_loss = 1.8464041783862621\n",
            "Epoch 155 : Accuracy = 0.8098739495798319, Loss = 2.1044847319845505Val_loss = 3.041142764368549\n",
            "Epoch 156 : Accuracy = 0.7720588235294118, Loss = 2.3582068097894484Val_loss = 1.8464041783862621\n",
            "Epoch 157 : Accuracy = 0.8130252100840336, Loss = 2.0558713203701258Val_loss = 2.932530165642887\n",
            "Epoch 158 : Accuracy = 0.7762605042016807, Loss = 2.2510728518198193Val_loss = 1.8464041783862621\n",
            "Epoch 159 : Accuracy = 0.8151260504201681, Loss = 1.9771905675687618Val_loss = 2.932530165642887\n",
            "Epoch 160 : Accuracy = 0.7857142857142857, Loss = 2.185065379485593Val_loss = 1.8464041783862621\n",
            "Epoch 161 : Accuracy = 0.8235294117647058, Loss = 1.8704541854587056Val_loss = 2.7153049681915613\n",
            "Epoch 162 : Accuracy = 0.7951680672268907, Loss = 1.959122808314264Val_loss = 1.520566382175362\n",
            "Epoch 163 : Accuracy = 0.8434873949579832, Loss = 1.6329509101281292Val_loss = 2.389467172014575\n",
            "Epoch 164 : Accuracy = 0.8277310924369747, Loss = 1.6446901932713158Val_loss = 1.303341184757952\n",
            "Epoch 165 : Accuracy = 0.8602941176470589, Loss = 1.3786409420904164Val_loss = 2.1722419745632493\n",
            "Epoch 166 : Accuracy = 0.8560924369747899, Loss = 1.3187108780789603Val_loss = 1.3732477404598755\n",
            "Epoch 167 : Accuracy = 0.8718487394957983, Loss = 1.1804814845005014Val_loss = 1.7377915796605998\n",
            "Epoch 168 : Accuracy = 0.8886554621848739, Loss = 1.0635649581399667Val_loss = 1.411953783483612\n",
            "Epoch 169 : Accuracy = 0.875, Loss = 1.171773023304429Val_loss = 1.7377915796605998\n",
            "Epoch 170 : Accuracy = 0.8886554621848739, Loss = 1.0436963111304052Val_loss = 1.411953783483612\n",
            "Epoch 171 : Accuracy = 0.8792016806722689, Loss = 1.1125814550547326Val_loss = 1.526799984217721\n",
            "Epoch 172 : Accuracy = 0.8886554621848739, Loss = 1.0400216120145498Val_loss = 1.411953783483612\n",
            "Epoch 173 : Accuracy = 0.8897058823529411, Loss = 1.0158372469454098Val_loss = 1.458075662111025\n"
          ]
        }
      ]
    },
    {
      "cell_type": "code",
      "source": [
        "predictions = model.predict(X_test)\n",
        "\n",
        "accuracy = model.accuracy(y_test, predictions)\n",
        "\n",
        "print(accuracy)"
      ],
      "metadata": {
        "id": "99Mo91hTrCW2",
        "colab": {
          "base_uri": "https://localhost:8080/"
        },
        "outputId": "50cf997e-a30e-4b71-896b-ddb8ea2856ec"
      },
      "execution_count": 20,
      "outputs": [
        {
          "output_type": "stream",
          "name": "stdout",
          "text": [
            "0.8679245283018868\n"
          ]
        },
        {
          "output_type": "stream",
          "name": "stderr",
          "text": [
            "/usr/local/lib/python3.7/dist-packages/ipykernel_launcher.py:72: RuntimeWarning: overflow encountered in exp\n"
          ]
        }
      ]
    },
    {
      "cell_type": "code",
      "source": [
        "plt.plot(history)\n",
        "plt.plot(val_history)\n"
      ],
      "metadata": {
        "colab": {
          "base_uri": "https://localhost:8080/",
          "height": 284
        },
        "id": "xZquN1zHgUwd",
        "outputId": "c3a026b0-167a-4ce0-a210-6c828adcb3fc"
      },
      "execution_count": 21,
      "outputs": [
        {
          "output_type": "execute_result",
          "data": {
            "text/plain": [
              "[<matplotlib.lines.Line2D at 0x7f8f4dcd64d0>]"
            ]
          },
          "metadata": {},
          "execution_count": 21
        },
        {
          "output_type": "display_data",
          "data": {
            "text/plain": [
              "<Figure size 432x288 with 1 Axes>"
            ],
            "image/png": "[encoded data removed]"
          },
          "metadata": {
            "needs_background": "light"
          }
        }
      ]
    },
    {
      "cell_type": "code",
      "source": [],
      "metadata": {
        "id": "9KzUmfKot8Tv"
      },
      "execution_count": null,
      "outputs": []
    }
  ]
}